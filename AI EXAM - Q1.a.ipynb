{
 "cells": [
  {
   "cell_type": "markdown",
   "metadata": {},
   "source": [
    "# END OF SECOND SEMESTER EXAMINATION - 2019/2020\n",
    "\n",
    "#### CSCD 312 - INTRODUCTION TO ARTIFICIAL INTELLIGENCE\n",
    "\n",
    "#### ID: 10687108\n",
    "#### NAME: KOBIRI SOLOMON OWUSU\n",
    "\n",
    "#### PROJECT TITLE: WINE QUALITY PREDICTION BASED ON IT'S CHEMICAL COMPONENTS  (QUESTION 1.A)"
   ]
  },
  {
   "cell_type": "markdown",
   "metadata": {},
   "source": [
    "## OVERVIEW\n",
    "This work seeks to analyze data based on the chemical properties of a number of wines and creates different machine learning models to predict the quality of each wine and subsequent ones.It is a well-established fact that the age of a wine makes it better and numerous factors determine the quality certification of each wine, including physiochemical tests such as alcohol quantity, pH, density and a lot more that would be analyzed in this work.\n",
    "\n",
    "\n",
    "### MACHINE LEARNING ALGORITHM\n",
    "The main type of machine learning algorith used in this work is Supervised Learning. This is where a target or outcome variable(which is wine quality in our case) is to be predicted from a given set of predictions(independent variables). The examples of supervised learning algorithms in this work are:\n",
    "1. SUPPORT VECTOR MACHINE (SVM)\n",
    "2. RANDOM FOREST\n",
    "3. K-NEAREST NEIGHBOR (KNN)\n",
    "4. DECISION TREE\n",
    "5. NEURAL NETWORKS\n",
    "\n",
    "The performances of each model will be analyzed and the results discussed. Comparisons will also be drawn if the need arises.\n",
    "\n",
    "\n",
    "### MODULES AND PACKAGES USED\n",
    "The main machine learning library used is python's SCIKIT-LEARN, commonly known as sklearn. Other packages used are the pandas Framework for retrieving the data file and converting it to tabular form for easy manipulation, seaborn and matplotlib for visualizing the data as well as other sklearn modules and packages.\n",
    "\n",
    "### DATA\n",
    "The data(winequality-white.csv) for this work was taken from the UCI public repository website (https://archive.ics.uci.edu/ml/datasets/Wine+Quality). The details are described in Cortez et al., 2009. The period for the collection of the data was from May 2004 to February 2007. The description of the wine features can be found below:\n",
    "1. Fixed acidity: Acids in the wine that does not evaporate easily\n",
    "2. Volatile acidity: Unlike fixed acidity, this type of acid in wine evaporates easily\n",
    "3. Citric acid: This is the type of acid mostly derived from citric fruits for added flavor to the wine\n",
    "4. Residual sugar: This refers to the sugar content of the wine after fermentation\n",
    "5. Chlorides: This is the salt content of the wine.\n",
    "6. Free sulfur dioxide: Free Sulfur dioxide is SO2 which is free in the wine\n",
    "7. Total sulfur dioxide: This refers to the sum of both free and bound SO2 content in the wine\n",
    "8. Density: This is the ratio of the mass of the wine to it's volume.\n",
    "9. pH: This is the description of how acidic or basic the wine is.\n",
    "10. Sulphates: An additive acting as an antioxidant and has the possibility of influencing SO2 content\n",
    "11. Alcohol: The percent of alcohol content in the wine\n",
    "12. Quality: This is the target variable in our work. It is given a score based on the available chemical properties of the wine\n",
    "\n",
    "### NB: \n",
    "#### The work is appropriately commented where necessary."
   ]
  },
  {
   "cell_type": "code",
   "execution_count": 1,
   "metadata": {},
   "outputs": [],
   "source": [
    "# Importing necessary libraries and packages for this work\n",
    "\n",
    "import pandas as pd\n",
    "import seaborn as sns\n",
    "import matplotlib.pyplot as plt\n",
    "from sklearn.preprocessing import StandardScaler\n",
    "from sklearn.preprocessing import LabelEncoder \n",
    "from sklearn.model_selection import train_test_split\n",
    "from sklearn.ensemble import RandomForestClassifier\n",
    "from sklearn.metrics import confusion_matrix, classification_report\n",
    "from sklearn import svm\n",
    "from sklearn.svm import SVC\n",
    "from sklearn.neural_network import MLPClassifier\n",
    "from sklearn.neighbors import KNeighborsClassifier\n",
    "from sklearn.metrics import accuracy_score\n",
    "from sklearn.tree import DecisionTreeClassifier\n",
    "%matplotlib inline"
   ]
  },
  {
   "cell_type": "code",
   "execution_count": 2,
   "metadata": {},
   "outputs": [],
   "source": [
    "# Reading the content of the dataset into a pandas dataframe\n",
    "\n",
    "whiteWine = pd.read_csv('E:/L300 SECOND SEM/CSCD 312 - INTRO TO ARTIFICIAL INTELLIGENCE/winequality-white.csv')"
   ]
  },
  {
   "cell_type": "code",
   "execution_count": 3,
   "metadata": {},
   "outputs": [
    {
     "data": {
      "text/html": [
       "<div>\n",
       "<style scoped>\n",
       "    .dataframe tbody tr th:only-of-type {\n",
       "        vertical-align: middle;\n",
       "    }\n",
       "\n",
       "    .dataframe tbody tr th {\n",
       "        vertical-align: top;\n",
       "    }\n",
       "\n",
       "    .dataframe thead th {\n",
       "        text-align: right;\n",
       "    }\n",
       "</style>\n",
       "<table border=\"1\" class=\"dataframe\">\n",
       "  <thead>\n",
       "    <tr style=\"text-align: right;\">\n",
       "      <th></th>\n",
       "      <th>fixed acidity;\"volatile acidity\";\"citric acid\";\"residual sugar\";\"chlorides\";\"free sulfur dioxide\";\"total sulfur dioxide\";\"density\";\"pH\";\"sulphates\";\"alcohol\";\"quality\"</th>\n",
       "    </tr>\n",
       "  </thead>\n",
       "  <tbody>\n",
       "    <tr>\n",
       "      <th>0</th>\n",
       "      <td>7;0.27;0.36;20.7;0.045;45;170;1.001;3;0.45;8.8;6</td>\n",
       "    </tr>\n",
       "    <tr>\n",
       "      <th>1</th>\n",
       "      <td>6.3;0.3;0.34;1.6;0.049;14;132;0.994;3.3;0.49;9...</td>\n",
       "    </tr>\n",
       "    <tr>\n",
       "      <th>2</th>\n",
       "      <td>8.1;0.28;0.4;6.9;0.05;30;97;0.9951;3.26;0.44;1...</td>\n",
       "    </tr>\n",
       "    <tr>\n",
       "      <th>3</th>\n",
       "      <td>7.2;0.23;0.32;8.5;0.058;47;186;0.9956;3.19;0.4...</td>\n",
       "    </tr>\n",
       "    <tr>\n",
       "      <th>4</th>\n",
       "      <td>7.2;0.23;0.32;8.5;0.058;47;186;0.9956;3.19;0.4...</td>\n",
       "    </tr>\n",
       "  </tbody>\n",
       "</table>\n",
       "</div>"
      ],
      "text/plain": [
       "  fixed acidity;\"volatile acidity\";\"citric acid\";\"residual sugar\";\"chlorides\";\"free sulfur dioxide\";\"total sulfur dioxide\";\"density\";\"pH\";\"sulphates\";\"alcohol\";\"quality\"\n",
       "0   7;0.27;0.36;20.7;0.045;45;170;1.001;3;0.45;8.8;6                                                                                                                     \n",
       "1  6.3;0.3;0.34;1.6;0.049;14;132;0.994;3.3;0.49;9...                                                                                                                     \n",
       "2  8.1;0.28;0.4;6.9;0.05;30;97;0.9951;3.26;0.44;1...                                                                                                                     \n",
       "3  7.2;0.23;0.32;8.5;0.058;47;186;0.9956;3.19;0.4...                                                                                                                     \n",
       "4  7.2;0.23;0.32;8.5;0.058;47;186;0.9956;3.19;0.4...                                                                                                                     "
      ]
     },
     "execution_count": 3,
     "metadata": {},
     "output_type": "execute_result"
    }
   ],
   "source": [
    "# Viewing the head(first few rows) of the dataset\n",
    "\n",
    "whiteWine.head()"
   ]
  },
  {
   "cell_type": "code",
   "execution_count": 4,
   "metadata": {},
   "outputs": [],
   "source": [
    "# The values in the dataset are not appropriately aligned with their respective labels as shown above. \n",
    "# It is rectified with the code below using the pandas 'seperator(sep)' porameter.\n",
    "\n",
    "Wine = pd.read_csv('E:/L300 SECOND SEM/CSCD 312 - INTRO TO ARTIFICIAL INTELLIGENCE/winequality-white.csv', sep=';')"
   ]
  },
  {
   "cell_type": "code",
   "execution_count": 5,
   "metadata": {},
   "outputs": [
    {
     "data": {
      "text/html": [
       "<div>\n",
       "<style scoped>\n",
       "    .dataframe tbody tr th:only-of-type {\n",
       "        vertical-align: middle;\n",
       "    }\n",
       "\n",
       "    .dataframe tbody tr th {\n",
       "        vertical-align: top;\n",
       "    }\n",
       "\n",
       "    .dataframe thead th {\n",
       "        text-align: right;\n",
       "    }\n",
       "</style>\n",
       "<table border=\"1\" class=\"dataframe\">\n",
       "  <thead>\n",
       "    <tr style=\"text-align: right;\">\n",
       "      <th></th>\n",
       "      <th>fixed acidity</th>\n",
       "      <th>volatile acidity</th>\n",
       "      <th>citric acid</th>\n",
       "      <th>residual sugar</th>\n",
       "      <th>chlorides</th>\n",
       "      <th>free sulfur dioxide</th>\n",
       "      <th>total sulfur dioxide</th>\n",
       "      <th>density</th>\n",
       "      <th>pH</th>\n",
       "      <th>sulphates</th>\n",
       "      <th>alcohol</th>\n",
       "      <th>quality</th>\n",
       "    </tr>\n",
       "  </thead>\n",
       "  <tbody>\n",
       "    <tr>\n",
       "      <th>0</th>\n",
       "      <td>7.0</td>\n",
       "      <td>0.27</td>\n",
       "      <td>0.36</td>\n",
       "      <td>20.7</td>\n",
       "      <td>0.045</td>\n",
       "      <td>45.0</td>\n",
       "      <td>170.0</td>\n",
       "      <td>1.0010</td>\n",
       "      <td>3.00</td>\n",
       "      <td>0.45</td>\n",
       "      <td>8.8</td>\n",
       "      <td>6</td>\n",
       "    </tr>\n",
       "    <tr>\n",
       "      <th>1</th>\n",
       "      <td>6.3</td>\n",
       "      <td>0.30</td>\n",
       "      <td>0.34</td>\n",
       "      <td>1.6</td>\n",
       "      <td>0.049</td>\n",
       "      <td>14.0</td>\n",
       "      <td>132.0</td>\n",
       "      <td>0.9940</td>\n",
       "      <td>3.30</td>\n",
       "      <td>0.49</td>\n",
       "      <td>9.5</td>\n",
       "      <td>6</td>\n",
       "    </tr>\n",
       "    <tr>\n",
       "      <th>2</th>\n",
       "      <td>8.1</td>\n",
       "      <td>0.28</td>\n",
       "      <td>0.40</td>\n",
       "      <td>6.9</td>\n",
       "      <td>0.050</td>\n",
       "      <td>30.0</td>\n",
       "      <td>97.0</td>\n",
       "      <td>0.9951</td>\n",
       "      <td>3.26</td>\n",
       "      <td>0.44</td>\n",
       "      <td>10.1</td>\n",
       "      <td>6</td>\n",
       "    </tr>\n",
       "    <tr>\n",
       "      <th>3</th>\n",
       "      <td>7.2</td>\n",
       "      <td>0.23</td>\n",
       "      <td>0.32</td>\n",
       "      <td>8.5</td>\n",
       "      <td>0.058</td>\n",
       "      <td>47.0</td>\n",
       "      <td>186.0</td>\n",
       "      <td>0.9956</td>\n",
       "      <td>3.19</td>\n",
       "      <td>0.40</td>\n",
       "      <td>9.9</td>\n",
       "      <td>6</td>\n",
       "    </tr>\n",
       "    <tr>\n",
       "      <th>4</th>\n",
       "      <td>7.2</td>\n",
       "      <td>0.23</td>\n",
       "      <td>0.32</td>\n",
       "      <td>8.5</td>\n",
       "      <td>0.058</td>\n",
       "      <td>47.0</td>\n",
       "      <td>186.0</td>\n",
       "      <td>0.9956</td>\n",
       "      <td>3.19</td>\n",
       "      <td>0.40</td>\n",
       "      <td>9.9</td>\n",
       "      <td>6</td>\n",
       "    </tr>\n",
       "  </tbody>\n",
       "</table>\n",
       "</div>"
      ],
      "text/plain": [
       "   fixed acidity  volatile acidity  citric acid  residual sugar  chlorides  \\\n",
       "0            7.0              0.27         0.36            20.7      0.045   \n",
       "1            6.3              0.30         0.34             1.6      0.049   \n",
       "2            8.1              0.28         0.40             6.9      0.050   \n",
       "3            7.2              0.23         0.32             8.5      0.058   \n",
       "4            7.2              0.23         0.32             8.5      0.058   \n",
       "\n",
       "   free sulfur dioxide  total sulfur dioxide  density    pH  sulphates  \\\n",
       "0                 45.0                 170.0   1.0010  3.00       0.45   \n",
       "1                 14.0                 132.0   0.9940  3.30       0.49   \n",
       "2                 30.0                  97.0   0.9951  3.26       0.44   \n",
       "3                 47.0                 186.0   0.9956  3.19       0.40   \n",
       "4                 47.0                 186.0   0.9956  3.19       0.40   \n",
       "\n",
       "   alcohol  quality  \n",
       "0      8.8        6  \n",
       "1      9.5        6  \n",
       "2     10.1        6  \n",
       "3      9.9        6  \n",
       "4      9.9        6  "
      ]
     },
     "execution_count": 5,
     "metadata": {},
     "output_type": "execute_result"
    }
   ],
   "source": [
    "# View the head of the new pandas dataset\n",
    "\n",
    "Wine.head()"
   ]
  },
  {
   "cell_type": "code",
   "execution_count": 6,
   "metadata": {},
   "outputs": [
    {
     "data": {
      "text/html": [
       "<div>\n",
       "<style scoped>\n",
       "    .dataframe tbody tr th:only-of-type {\n",
       "        vertical-align: middle;\n",
       "    }\n",
       "\n",
       "    .dataframe tbody tr th {\n",
       "        vertical-align: top;\n",
       "    }\n",
       "\n",
       "    .dataframe thead th {\n",
       "        text-align: right;\n",
       "    }\n",
       "</style>\n",
       "<table border=\"1\" class=\"dataframe\">\n",
       "  <thead>\n",
       "    <tr style=\"text-align: right;\">\n",
       "      <th></th>\n",
       "      <th>fixed acidity</th>\n",
       "      <th>volatile acidity</th>\n",
       "      <th>citric acid</th>\n",
       "      <th>residual sugar</th>\n",
       "      <th>chlorides</th>\n",
       "      <th>free sulfur dioxide</th>\n",
       "      <th>total sulfur dioxide</th>\n",
       "      <th>density</th>\n",
       "      <th>pH</th>\n",
       "      <th>sulphates</th>\n",
       "      <th>alcohol</th>\n",
       "      <th>quality</th>\n",
       "    </tr>\n",
       "  </thead>\n",
       "  <tbody>\n",
       "    <tr>\n",
       "      <th>4893</th>\n",
       "      <td>6.2</td>\n",
       "      <td>0.21</td>\n",
       "      <td>0.29</td>\n",
       "      <td>1.6</td>\n",
       "      <td>0.039</td>\n",
       "      <td>24.0</td>\n",
       "      <td>92.0</td>\n",
       "      <td>0.99114</td>\n",
       "      <td>3.27</td>\n",
       "      <td>0.50</td>\n",
       "      <td>11.2</td>\n",
       "      <td>6</td>\n",
       "    </tr>\n",
       "    <tr>\n",
       "      <th>4894</th>\n",
       "      <td>6.6</td>\n",
       "      <td>0.32</td>\n",
       "      <td>0.36</td>\n",
       "      <td>8.0</td>\n",
       "      <td>0.047</td>\n",
       "      <td>57.0</td>\n",
       "      <td>168.0</td>\n",
       "      <td>0.99490</td>\n",
       "      <td>3.15</td>\n",
       "      <td>0.46</td>\n",
       "      <td>9.6</td>\n",
       "      <td>5</td>\n",
       "    </tr>\n",
       "    <tr>\n",
       "      <th>4895</th>\n",
       "      <td>6.5</td>\n",
       "      <td>0.24</td>\n",
       "      <td>0.19</td>\n",
       "      <td>1.2</td>\n",
       "      <td>0.041</td>\n",
       "      <td>30.0</td>\n",
       "      <td>111.0</td>\n",
       "      <td>0.99254</td>\n",
       "      <td>2.99</td>\n",
       "      <td>0.46</td>\n",
       "      <td>9.4</td>\n",
       "      <td>6</td>\n",
       "    </tr>\n",
       "    <tr>\n",
       "      <th>4896</th>\n",
       "      <td>5.5</td>\n",
       "      <td>0.29</td>\n",
       "      <td>0.30</td>\n",
       "      <td>1.1</td>\n",
       "      <td>0.022</td>\n",
       "      <td>20.0</td>\n",
       "      <td>110.0</td>\n",
       "      <td>0.98869</td>\n",
       "      <td>3.34</td>\n",
       "      <td>0.38</td>\n",
       "      <td>12.8</td>\n",
       "      <td>7</td>\n",
       "    </tr>\n",
       "    <tr>\n",
       "      <th>4897</th>\n",
       "      <td>6.0</td>\n",
       "      <td>0.21</td>\n",
       "      <td>0.38</td>\n",
       "      <td>0.8</td>\n",
       "      <td>0.020</td>\n",
       "      <td>22.0</td>\n",
       "      <td>98.0</td>\n",
       "      <td>0.98941</td>\n",
       "      <td>3.26</td>\n",
       "      <td>0.32</td>\n",
       "      <td>11.8</td>\n",
       "      <td>6</td>\n",
       "    </tr>\n",
       "  </tbody>\n",
       "</table>\n",
       "</div>"
      ],
      "text/plain": [
       "      fixed acidity  volatile acidity  citric acid  residual sugar  chlorides  \\\n",
       "4893            6.2              0.21         0.29             1.6      0.039   \n",
       "4894            6.6              0.32         0.36             8.0      0.047   \n",
       "4895            6.5              0.24         0.19             1.2      0.041   \n",
       "4896            5.5              0.29         0.30             1.1      0.022   \n",
       "4897            6.0              0.21         0.38             0.8      0.020   \n",
       "\n",
       "      free sulfur dioxide  total sulfur dioxide  density    pH  sulphates  \\\n",
       "4893                 24.0                  92.0  0.99114  3.27       0.50   \n",
       "4894                 57.0                 168.0  0.99490  3.15       0.46   \n",
       "4895                 30.0                 111.0  0.99254  2.99       0.46   \n",
       "4896                 20.0                 110.0  0.98869  3.34       0.38   \n",
       "4897                 22.0                  98.0  0.98941  3.26       0.32   \n",
       "\n",
       "      alcohol  quality  \n",
       "4893     11.2        6  \n",
       "4894      9.6        5  \n",
       "4895      9.4        6  \n",
       "4896     12.8        7  \n",
       "4897     11.8        6  "
      ]
     },
     "execution_count": 6,
     "metadata": {},
     "output_type": "execute_result"
    }
   ],
   "source": [
    "# View the tail(the last few rows) of the new pandas dataset\n",
    "\n",
    "Wine.tail()"
   ]
  },
  {
   "cell_type": "code",
   "execution_count": 7,
   "metadata": {},
   "outputs": [
    {
     "data": {
      "text/plain": [
       "fixed acidity           0\n",
       "volatile acidity        0\n",
       "citric acid             0\n",
       "residual sugar          0\n",
       "chlorides               0\n",
       "free sulfur dioxide     0\n",
       "total sulfur dioxide    0\n",
       "density                 0\n",
       "pH                      0\n",
       "sulphates               0\n",
       "alcohol                 0\n",
       "quality                 0\n",
       "dtype: int64"
      ]
     },
     "execution_count": 7,
     "metadata": {},
     "output_type": "execute_result"
    }
   ],
   "source": [
    "# Checking for null values in dataset\n",
    "\n",
    "Wine.isnull().sum()"
   ]
  },
  {
   "cell_type": "markdown",
   "metadata": {},
   "source": [
    "## DATA VISUALIZATION AND PREPROCESSING"
   ]
  },
  {
   "cell_type": "code",
   "execution_count": 8,
   "metadata": {},
   "outputs": [
    {
     "data": {
      "text/plain": [
       "<matplotlib.axes._subplots.AxesSubplot at 0x1dc0d8e1408>"
      ]
     },
     "execution_count": 8,
     "metadata": {},
     "output_type": "execute_result"
    },
    {
     "data": {
      "image/png": "[encoded data removed]",
      "text/plain": [
       "<Figure size 1080x576 with 1 Axes>"
      ]
     },
     "metadata": {
      "needs_background": "light"
     },
     "output_type": "display_data"
    }
   ],
   "source": [
    "# Examining the correlation between the dependent variable(wine quality) and the \n",
    "# other independent variables\n",
    "\n",
    "# As shown below in the graph below, citric acid, sulfur dioxides and sulphates have little or no\n",
    "# correlation on the quality of wine. Alcohol, density, chlorides and volatile acidity influence\n",
    "# wine quality.\n",
    "\n",
    "Wine.corr()['quality'].sort_values().plot(kind='bar', figsize=(15, 8))"
   ]
  },
  {
   "cell_type": "code",
   "execution_count": 9,
   "metadata": {},
   "outputs": [
    {
     "data": {
      "text/plain": [
       "<matplotlib.axes._subplots.AxesSubplot at 0x1dc0dcefd48>"
      ]
     },
     "execution_count": 9,
     "metadata": {},
     "output_type": "execute_result"
    },
    {
     "data": {
      "image/png": "[encoded data removed]",
      "text/plain": [
       "<Figure size 432x288 with 1 Axes>"
      ]
     },
     "metadata": {
      "needs_background": "light"
     },
     "output_type": "display_data"
    }
   ],
   "source": [
    "#A graph of the relationship between quality and density\n",
    "\n",
    "sns.barplot(x='quality', y='density', data=Wine)"
   ]
  },
  {
   "cell_type": "code",
   "execution_count": 10,
   "metadata": {},
   "outputs": [
    {
     "data": {
      "text/plain": [
       "<matplotlib.axes._subplots.AxesSubplot at 0x1dc0dace508>"
      ]
     },
     "execution_count": 10,
     "metadata": {},
     "output_type": "execute_result"
    },
    {
     "data": {
      "image/png": "[encoded data removed]",
      "text/plain": [
       "<Figure size 432x288 with 1 Axes>"
      ]
     },
     "metadata": {
      "needs_background": "light"
     },
     "output_type": "display_data"
    }
   ],
   "source": [
    "#A graph of the relationship between quality and citric acid\n",
    "\n",
    "sns.barplot(x='quality', y='citric acid', data=Wine)"
   ]
  },
  {
   "cell_type": "code",
   "execution_count": 11,
   "metadata": {},
   "outputs": [
    {
     "data": {
      "text/plain": [
       "<matplotlib.axes._subplots.AxesSubplot at 0x1dc0db6d1c8>"
      ]
     },
     "execution_count": 11,
     "metadata": {},
     "output_type": "execute_result"
    },
    {
     "data": {
      "image/png": "[encoded data removed]",
      "text/plain": [
       "<Figure size 432x288 with 1 Axes>"
      ]
     },
     "metadata": {
      "needs_background": "light"
     },
     "output_type": "display_data"
    }
   ],
   "source": [
    "#Graph of wine quality number and their respective quantity\n",
    "\n",
    "sns.countplot(Wine['quality'])"
   ]
  },
  {
   "cell_type": "code",
   "execution_count": 12,
   "metadata": {},
   "outputs": [
    {
     "data": {
      "text/plain": [
       "<matplotlib.collections.PathCollection at 0x1dc0dc0a9c8>"
      ]
     },
     "execution_count": 12,
     "metadata": {},
     "output_type": "execute_result"
    },
    {
     "data": {
      "image/png": "[encoded data removed]",
      "text/plain": [
       "<Figure size 432x288 with 1 Axes>"
      ]
     },
     "metadata": {
      "needs_background": "light"
     },
     "output_type": "display_data"
    }
   ],
   "source": [
    "# Scatter plot between chlorides and quality\n",
    "\n",
    "plt.scatter(Wine['chlorides'], Wine['quality'], alpha=0.3)"
   ]
  },
  {
   "cell_type": "code",
   "execution_count": 13,
   "metadata": {},
   "outputs": [
    {
     "data": {
      "text/plain": [
       "<matplotlib.collections.PathCollection at 0x1dc0dc81f48>"
      ]
     },
     "execution_count": 13,
     "metadata": {},
     "output_type": "execute_result"
    },
    {
     "data": {
      "image/png": "[encoded data removed]",
      "text/plain": [
       "<Figure size 432x288 with 1 Axes>"
      ]
     },
     "metadata": {
      "needs_background": "light"
     },
     "output_type": "display_data"
    }
   ],
   "source": [
    "# Scatter plot between free sulfur dioxide and quality\n",
    "\n",
    "plt.scatter(Wine['free sulfur dioxide'], Wine['quality'], alpha=0.3)"
   ]
  },
  {
   "cell_type": "code",
   "execution_count": 14,
   "metadata": {},
   "outputs": [
    {
     "data": {
      "text/plain": [
       "<matplotlib.axes._subplots.AxesSubplot at 0x1dc0df21788>"
      ]
     },
     "execution_count": 14,
     "metadata": {},
     "output_type": "execute_result"
    },
    {
     "data": {
      "image/png": "[encoded data removed]",
      "text/plain": [
       "<Figure size 432x288 with 1 Axes>"
      ]
     },
     "metadata": {
      "needs_background": "light"
     },
     "output_type": "display_data"
    }
   ],
   "source": [
    "# Plot alcohol and volatile acidity on the same plot to examine their influence on wine quality.\n",
    "\n",
    "ax = Wine.groupby('quality').mean().reset_index().plot(y='alcohol', x='quality')\n",
    "Wine.groupby('quality').mean().reset_index().plot(y='volatile acidity', x='quality', ax=ax)"
   ]
  },
  {
   "cell_type": "code",
   "execution_count": 15,
   "metadata": {},
   "outputs": [
    {
     "data": {
      "text/plain": [
       "[bad, good]\n",
       "Categories (2, object): [bad < good]"
      ]
     },
     "execution_count": 15,
     "metadata": {},
     "output_type": "execute_result"
    }
   ],
   "source": [
    "#For the sake of classification, the wine is separated into two categories.\n",
    "\n",
    "bins = (2,6,9 )     # Quality wine has quality value of 6 or higher (more than average quality number)\n",
    "categories = ['bad', 'good']      #Names of the two categories\n",
    "Wine['quality'] = pd.cut(Wine['quality'], bins = bins, labels = categories)\n",
    "Wine['quality'].unique()"
   ]
  },
  {
   "cell_type": "code",
   "execution_count": 16,
   "metadata": {},
   "outputs": [],
   "source": [
    "#Use LabelEncoder to indicate 'bad = 0' and 'good = 1'\n",
    "\n",
    "quality_label = LabelEncoder()\n",
    "Wine['quality'] = quality_label.fit_transform(Wine['quality'])"
   ]
  },
  {
   "cell_type": "code",
   "execution_count": 17,
   "metadata": {},
   "outputs": [
    {
     "data": {
      "text/html": [
       "<div>\n",
       "<style scoped>\n",
       "    .dataframe tbody tr th:only-of-type {\n",
       "        vertical-align: middle;\n",
       "    }\n",
       "\n",
       "    .dataframe tbody tr th {\n",
       "        vertical-align: top;\n",
       "    }\n",
       "\n",
       "    .dataframe thead th {\n",
       "        text-align: right;\n",
       "    }\n",
       "</style>\n",
       "<table border=\"1\" class=\"dataframe\">\n",
       "  <thead>\n",
       "    <tr style=\"text-align: right;\">\n",
       "      <th></th>\n",
       "      <th>fixed acidity</th>\n",
       "      <th>volatile acidity</th>\n",
       "      <th>citric acid</th>\n",
       "      <th>residual sugar</th>\n",
       "      <th>chlorides</th>\n",
       "      <th>free sulfur dioxide</th>\n",
       "      <th>total sulfur dioxide</th>\n",
       "      <th>density</th>\n",
       "      <th>pH</th>\n",
       "      <th>sulphates</th>\n",
       "      <th>alcohol</th>\n",
       "      <th>quality</th>\n",
       "    </tr>\n",
       "  </thead>\n",
       "  <tbody>\n",
       "    <tr>\n",
       "      <th>0</th>\n",
       "      <td>7.0</td>\n",
       "      <td>0.27</td>\n",
       "      <td>0.36</td>\n",
       "      <td>20.7</td>\n",
       "      <td>0.045</td>\n",
       "      <td>45.0</td>\n",
       "      <td>170.0</td>\n",
       "      <td>1.0010</td>\n",
       "      <td>3.00</td>\n",
       "      <td>0.45</td>\n",
       "      <td>8.8</td>\n",
       "      <td>0</td>\n",
       "    </tr>\n",
       "    <tr>\n",
       "      <th>1</th>\n",
       "      <td>6.3</td>\n",
       "      <td>0.30</td>\n",
       "      <td>0.34</td>\n",
       "      <td>1.6</td>\n",
       "      <td>0.049</td>\n",
       "      <td>14.0</td>\n",
       "      <td>132.0</td>\n",
       "      <td>0.9940</td>\n",
       "      <td>3.30</td>\n",
       "      <td>0.49</td>\n",
       "      <td>9.5</td>\n",
       "      <td>0</td>\n",
       "    </tr>\n",
       "    <tr>\n",
       "      <th>2</th>\n",
       "      <td>8.1</td>\n",
       "      <td>0.28</td>\n",
       "      <td>0.40</td>\n",
       "      <td>6.9</td>\n",
       "      <td>0.050</td>\n",
       "      <td>30.0</td>\n",
       "      <td>97.0</td>\n",
       "      <td>0.9951</td>\n",
       "      <td>3.26</td>\n",
       "      <td>0.44</td>\n",
       "      <td>10.1</td>\n",
       "      <td>0</td>\n",
       "    </tr>\n",
       "    <tr>\n",
       "      <th>3</th>\n",
       "      <td>7.2</td>\n",
       "      <td>0.23</td>\n",
       "      <td>0.32</td>\n",
       "      <td>8.5</td>\n",
       "      <td>0.058</td>\n",
       "      <td>47.0</td>\n",
       "      <td>186.0</td>\n",
       "      <td>0.9956</td>\n",
       "      <td>3.19</td>\n",
       "      <td>0.40</td>\n",
       "      <td>9.9</td>\n",
       "      <td>0</td>\n",
       "    </tr>\n",
       "    <tr>\n",
       "      <th>4</th>\n",
       "      <td>7.2</td>\n",
       "      <td>0.23</td>\n",
       "      <td>0.32</td>\n",
       "      <td>8.5</td>\n",
       "      <td>0.058</td>\n",
       "      <td>47.0</td>\n",
       "      <td>186.0</td>\n",
       "      <td>0.9956</td>\n",
       "      <td>3.19</td>\n",
       "      <td>0.40</td>\n",
       "      <td>9.9</td>\n",
       "      <td>0</td>\n",
       "    </tr>\n",
       "  </tbody>\n",
       "</table>\n",
       "</div>"
      ],
      "text/plain": [
       "   fixed acidity  volatile acidity  citric acid  residual sugar  chlorides  \\\n",
       "0            7.0              0.27         0.36            20.7      0.045   \n",
       "1            6.3              0.30         0.34             1.6      0.049   \n",
       "2            8.1              0.28         0.40             6.9      0.050   \n",
       "3            7.2              0.23         0.32             8.5      0.058   \n",
       "4            7.2              0.23         0.32             8.5      0.058   \n",
       "\n",
       "   free sulfur dioxide  total sulfur dioxide  density    pH  sulphates  \\\n",
       "0                 45.0                 170.0   1.0010  3.00       0.45   \n",
       "1                 14.0                 132.0   0.9940  3.30       0.49   \n",
       "2                 30.0                  97.0   0.9951  3.26       0.44   \n",
       "3                 47.0                 186.0   0.9956  3.19       0.40   \n",
       "4                 47.0                 186.0   0.9956  3.19       0.40   \n",
       "\n",
       "   alcohol  quality  \n",
       "0      8.8        0  \n",
       "1      9.5        0  \n",
       "2     10.1        0  \n",
       "3      9.9        0  \n",
       "4      9.9        0  "
      ]
     },
     "execution_count": 17,
     "metadata": {},
     "output_type": "execute_result"
    }
   ],
   "source": [
    "#View the head of the Wine table to determine if the 'quality' label has been encoded with binary values\n",
    "\n",
    "Wine.head()"
   ]
  },
  {
   "cell_type": "code",
   "execution_count": 18,
   "metadata": {},
   "outputs": [
    {
     "data": {
      "text/plain": [
       "0    3838\n",
       "1    1060\n",
       "Name: quality, dtype: int64"
      ]
     },
     "execution_count": 18,
     "metadata": {},
     "output_type": "execute_result"
    },
    {
     "data": {
      "image/png": "[encoded data removed]",
      "text/plain": [
       "<Figure size 432x288 with 1 Axes>"
      ]
     },
     "metadata": {
      "needs_background": "light"
     },
     "output_type": "display_data"
    }
   ],
   "source": [
    "# A visualization of the number of good wine and bad wine.\n",
    "\n",
    "sns.countplot(Wine['quality'])\n",
    "Wine['quality'].value_counts()"
   ]
  },
  {
   "cell_type": "code",
   "execution_count": 19,
   "metadata": {},
   "outputs": [],
   "source": [
    "# Separation of wine features to enhance prediction\n",
    "\n",
    "X = Wine.drop('quality', axis=1)\n",
    "y = Wine['quality']"
   ]
  },
  {
   "cell_type": "markdown",
   "metadata": {},
   "source": [
    "### DATA SPLITTING FOR TRAINING AND VALIDATION"
   ]
  },
  {
   "cell_type": "code",
   "execution_count": 20,
   "metadata": {},
   "outputs": [],
   "source": [
    "# Splitting data into train and test components\n",
    "\n",
    "X_train, X_test, y_train, y_test = train_test_split(X, y, test_size = 0.2, random_state = 42)"
   ]
  },
  {
   "cell_type": "code",
   "execution_count": 21,
   "metadata": {},
   "outputs": [],
   "source": [
    "# Scaling down all the values in the labels to obtain optimum result\n",
    "\n",
    "sc = StandardScaler()\n",
    "X_train = sc.fit_transform(X_train)\n",
    "X_test = sc.transform(X_test)"
   ]
  },
  {
   "cell_type": "code",
   "execution_count": 22,
   "metadata": {},
   "outputs": [
    {
     "data": {
      "text/plain": [
       "array([[ 5.15119310e-01, -1.07623315e+00,  2.27730764e-01,\n",
       "         3.40419470e-01, -8.13688488e-01,  5.34064605e-01,\n",
       "        -6.41932319e-01, -4.47040725e-01, -3.28261014e-01,\n",
       "        -7.02444738e-01,  1.54037099e+00],\n",
       "       [-6.69188091e-01, -2.88776731e-01,  8.95831948e-01,\n",
       "         1.00207124e+00, -2.17211567e-01,  7.73947112e-01,\n",
       "         1.35510550e+00,  9.03369755e-01, -6.18856911e-02,\n",
       "         2.66074147e-01, -8.21711966e-01],\n",
       "       [-1.49820327e+00,  4.00247639e-01, -2.28071805e-02,\n",
       "         1.84736700e-01, -4.00742927e-01, -6.05377303e-01,\n",
       "        -1.02232048e+00, -4.60280044e-01,  4.04271124e-01,\n",
       "         1.93263316e-03,  4.81506217e-01],\n",
       "       [ 4.13963498e-02, -8.79369048e-01,  1.44218115e-01,\n",
       "        -9.24503038e-01, -4.46625767e-01, -1.25612289e-01,\n",
       "        -8.79674917e-01, -3.04718052e-01,  1.37895801e-01,\n",
       "         4.42168490e-01,  2.37152807e-01],\n",
       "       [ 9.88842271e-01,  2.03383533e-01, -6.07395717e-01,\n",
       "         2.43240669e+00,  3.33382515e-01,  5.42995912e-02,\n",
       "         8.55846045e-01,  1.88307932e+00,  7.13019704e-02,\n",
       "         8.99798045e-02, -8.86517384e-02]])"
      ]
     },
     "execution_count": 22,
     "metadata": {},
     "output_type": "execute_result"
    }
   ],
   "source": [
    "X_train[ : 5]"
   ]
  },
  {
   "cell_type": "markdown",
   "metadata": {},
   "source": [
    "### SUPPORT VECTOR MACHINE (SVM) CLASSIFIER\n",
    "This is a type of supervised learning classifier that adopts hyperplanes to marginalize data points.It can easily handle multiple categorical and continuos data values hence it is adopted in both types of classification and regression problems. It is popularly known for its kernel tricks"
   ]
  },
  {
   "cell_type": "code",
   "execution_count": 23,
   "metadata": {},
   "outputs": [],
   "source": [
    "# Building SVM model\n",
    "\n",
    "svModel = svm.SVC()\n",
    "svModel.fit(X_train, y_train)\n",
    "svprediction = svModel.predict(X_test)"
   ]
  },
  {
   "cell_type": "code",
   "execution_count": 24,
   "metadata": {},
   "outputs": [
    {
     "name": "stdout",
     "output_type": "stream",
     "text": [
      "              precision    recall  f1-score   support\n",
      "\n",
      "           0       0.83      0.97      0.89       753\n",
      "           1       0.75      0.34      0.47       227\n",
      "\n",
      "    accuracy                           0.82       980\n",
      "   macro avg       0.79      0.65      0.68       980\n",
      "weighted avg       0.81      0.82      0.79       980\n",
      "\n"
     ]
    }
   ],
   "source": [
    "# Checking for the performance of the support vector machine model\n",
    "\n",
    "print(classification_report(y_test, svprediction))"
   ]
  },
  {
   "cell_type": "code",
   "execution_count": 25,
   "metadata": {},
   "outputs": [
    {
     "name": "stdout",
     "output_type": "stream",
     "text": [
      "[[728  25]\n",
      " [150  77]]\n"
     ]
    }
   ],
   "source": [
    "# Plotting the confusion matrix to view the model performance\n",
    "\n",
    "print(confusion_matrix(y_test, svprediction))\n",
    "\n",
    "#Plo"
   ]
  },
  {
   "cell_type": "markdown",
   "metadata": {},
   "source": [
    "#### DISCUSSION OF SVM RESULT\n",
    "The capacity of the model to predict bad wine is at a precision rate of 83% and that of a good wine is\n",
    "at a precision rate of 75% with f1 scores of 89% and 47% respectively.\n",
    "Though the model did not give a considerable precision percentage, it was able to classify more of the\n",
    "wines as well as most of the good wines while missing out on a few. It can be considered as a\n",
    "moderate model"
   ]
  },
  {
   "cell_type": "markdown",
   "metadata": {},
   "source": [
    "### RANDOM FOREST CLASSIFIER MODEL\n",
    "It is considered the most flexible supervised learning algorithm used both for classification and regression. A forest is made of trees and the more trees the forest has the more robust it becomes. The random forest algorithm creates decision trees on selected data samples and make a prediction from each tree and then select the best solution by means of voting"
   ]
  },
  {
   "cell_type": "code",
   "execution_count": 26,
   "metadata": {},
   "outputs": [],
   "source": [
    "# Building  Random forest model\n",
    "\n",
    "rfModel = RandomForestClassifier(n_estimators = 1000)\n",
    "rfModel.fit(X_train, y_train)\n",
    "rfprediction = rfModel.predict(X_test)"
   ]
  },
  {
   "cell_type": "code",
   "execution_count": 27,
   "metadata": {},
   "outputs": [
    {
     "data": {
      "text/plain": [
       "array([1, 1, 1, 0, 1, 0, 0, 0, 0, 0, 1, 0, 1, 0, 0, 0, 1, 0, 1, 0, 0, 0,\n",
       "       0, 0, 0, 0, 0, 0, 1, 0])"
      ]
     },
     "execution_count": 27,
     "metadata": {},
     "output_type": "execute_result"
    }
   ],
   "source": [
    "# Viewing the first 30 rows of the predicted quality column\n",
    "\n",
    "rfprediction[:30]"
   ]
  },
  {
   "cell_type": "code",
   "execution_count": 28,
   "metadata": {},
   "outputs": [
    {
     "name": "stdout",
     "output_type": "stream",
     "text": [
      "              precision    recall  f1-score   support\n",
      "\n",
      "           0       0.90      0.97      0.93       753\n",
      "           1       0.85      0.65      0.74       227\n",
      "\n",
      "    accuracy                           0.89       980\n",
      "   macro avg       0.88      0.81      0.84       980\n",
      "weighted avg       0.89      0.89      0.89       980\n",
      "\n"
     ]
    }
   ],
   "source": [
    "# Checking for the performance of the random forest model\n",
    "\n",
    "print(classification_report(y_test, rfprediction))"
   ]
  },
  {
   "cell_type": "code",
   "execution_count": 30,
   "metadata": {},
   "outputs": [
    {
     "name": "stdout",
     "output_type": "stream",
     "text": [
      "[[727  26]\n",
      " [ 79 148]]\n"
     ]
    }
   ],
   "source": [
    "# Plotting the confusion matrix to view the model performance\n",
    "\n",
    "print(confusion_matrix(y_test, rfprediction))"
   ]
  },
  {
   "cell_type": "markdown",
   "metadata": {},
   "source": [
    "#### DISCUSSION OF RANDOM FOREST CLASSIFIER RESULT\n",
    "With a precision of 90% for predicting bad wine and 85% for predicting good wine, the model can \n",
    "be considered as fair. The classification_report method also shows the f1-score of the model.\n",
    "\n",
    "The precision percentages above are confirmed through the confusion matrix where the model accurately \n",
    "predicted a higher number of bad wines(727) than it could predict good wines(79). Hence this model is \n",
    "really good at predicting bad wine."
   ]
  },
  {
   "cell_type": "markdown",
   "metadata": {},
   "source": [
    "### K-Nearest Neighbors (KNN) CLASSIFIER MODEL\n",
    "This algorithm can be used for both classification and regression predictive problems. KNN is described as a lazy learning algorithm and a non-parametric learning algorithm. It uses feature similarities for the prediction of values of new data points. It is a versatile algorithm and produces a relatively high accuracy but is slow on large datasets and is very sensitive to the scale of data as well as irrelevant features."
   ]
  },
  {
   "cell_type": "code",
   "execution_count": 31,
   "metadata": {},
   "outputs": [],
   "source": [
    "# Building KNN model\n",
    "knnModel = KNeighborsClassifier(n_neighbors = 1)\n",
    "knnModel.fit(X_train, y_train)\n",
    "knnprediction = knnModel.predict(X_test)"
   ]
  },
  {
   "cell_type": "code",
   "execution_count": 32,
   "metadata": {},
   "outputs": [
    {
     "name": "stdout",
     "output_type": "stream",
     "text": [
      "              precision    recall  f1-score   support\n",
      "\n",
      "           0       0.91      0.90      0.91       753\n",
      "           1       0.69      0.72      0.71       227\n",
      "\n",
      "    accuracy                           0.86       980\n",
      "   macro avg       0.80      0.81      0.81       980\n",
      "weighted avg       0.86      0.86      0.86       980\n",
      "\n"
     ]
    }
   ],
   "source": [
    "# Checking for the performance of the KNN model\n",
    "\n",
    "print(classification_report(y_test, knnprediction))"
   ]
  },
  {
   "cell_type": "code",
   "execution_count": 33,
   "metadata": {},
   "outputs": [
    {
     "name": "stdout",
     "output_type": "stream",
     "text": [
      "[[681  72]\n",
      " [ 64 163]]\n"
     ]
    }
   ],
   "source": [
    "# Plotting the confusion matrix to view the model performance\n",
    "\n",
    "print(confusion_matrix(y_test, knnprediction))"
   ]
  },
  {
   "cell_type": "markdown",
   "metadata": {},
   "source": [
    "#### DISCUSSION OF KNN RESULT\n",
    "The KNN model has shown a high order of precision with respect to the classification of bad wine(91%).The precision for the classification of good wine(69%) is quite poor but the weighted average precision score of 86% is fairly commendable.\n",
    "The confusion matrix illustrates the models ability to classify a large number of bad wines and shows it's inability to classify the good wines."
   ]
  },
  {
   "cell_type": "markdown",
   "metadata": {},
   "source": [
    "### THE DECISION TREE CLASSIFIER MODEL\n",
    "This is a type of supervised machine learning algorithm which involves the continuous splitting of data according to a certain parameter. A decision tree consists of Nodes, Edges/Branch and Leaf nodes. The main types are classification trees and regression trees."
   ]
  },
  {
   "cell_type": "code",
   "execution_count": 34,
   "metadata": {},
   "outputs": [],
   "source": [
    "# Building the Decision tree classifier model\n",
    "\n",
    "dtreeModel = DecisionTreeClassifier(random_state = 50)\n",
    "dtreeModel.fit(X_train, y_train)\n",
    "dtreeprediction = dtreeModel.predict(X_test)"
   ]
  },
  {
   "cell_type": "code",
   "execution_count": 35,
   "metadata": {},
   "outputs": [
    {
     "name": "stdout",
     "output_type": "stream",
     "text": [
      "              precision    recall  f1-score   support\n",
      "\n",
      "           0       0.90      0.88      0.89       753\n",
      "           1       0.63      0.67      0.65       227\n",
      "\n",
      "    accuracy                           0.83       980\n",
      "   macro avg       0.76      0.77      0.77       980\n",
      "weighted avg       0.83      0.83      0.83       980\n",
      "\n"
     ]
    }
   ],
   "source": [
    "# Checking for the performance of the Decision Tree model\n",
    "\n",
    "print(classification_report(y_test, dtreeprediction))"
   ]
  },
  {
   "cell_type": "code",
   "execution_count": 36,
   "metadata": {},
   "outputs": [
    {
     "name": "stdout",
     "output_type": "stream",
     "text": [
      "[[663  90]\n",
      " [ 76 151]]\n"
     ]
    }
   ],
   "source": [
    "# Plotting the confusion matrix to view the model performance\n",
    "\n",
    "print(confusion_matrix(y_test, dtreeprediction))"
   ]
  },
  {
   "cell_type": "markdown",
   "metadata": {},
   "source": [
    "#### DISCUSSION OF DECISION TREE CLASSIFIER RESULT\n",
    "The decision tree classifier model can be considered substantial for the prediction of bad wine as the precision level is higher for the bad wines than for the good ones. \n",
    "The confusion matrix shows an indication of the models' inaccuracy in classifying rightly most of the wines, especially the good ones."
   ]
  },
  {
   "cell_type": "markdown",
   "metadata": {},
   "source": [
    "### NEURAL NETWORKS (GOOD WITH HUGE AMOUNTS OF DATA)\n",
    "This type of classifier uses algorithms that emulates the functionality of the human brain by recognizing patterns and making decisions. Neural networks are used in supervised and unsupervised learning scenarios. In supervised learning, it is used when the output is already known, hence it learns from the input data to make better predictions for subsequent data inputs."
   ]
  },
  {
   "cell_type": "code",
   "execution_count": 37,
   "metadata": {},
   "outputs": [],
   "source": [
    "neuralModel = MLPClassifier(hidden_layer_sizes=(22,22,22), max_iter=2500)\n",
    "neuralModel.fit(X_train, y_train)\n",
    "neuralprediction = neuralModel.predict(X_test)"
   ]
  },
  {
   "cell_type": "code",
   "execution_count": 38,
   "metadata": {},
   "outputs": [
    {
     "name": "stdout",
     "output_type": "stream",
     "text": [
      "              precision    recall  f1-score   support\n",
      "\n",
      "           0       0.90      0.91      0.91       753\n",
      "           1       0.69      0.68      0.68       227\n",
      "\n",
      "    accuracy                           0.86       980\n",
      "   macro avg       0.80      0.79      0.80       980\n",
      "weighted avg       0.85      0.86      0.85       980\n",
      "\n"
     ]
    }
   ],
   "source": [
    "# Checking for the performance of the neural network model\n",
    "\n",
    "print(classification_report(y_test, neuralprediction))"
   ]
  },
  {
   "cell_type": "code",
   "execution_count": 39,
   "metadata": {},
   "outputs": [
    {
     "name": "stdout",
     "output_type": "stream",
     "text": [
      "[[684  69]\n",
      " [ 73 154]]\n"
     ]
    }
   ],
   "source": [
    "# Plotting the confusion matrix to view the model performance\n",
    "\n",
    "print(confusion_matrix(y_test, neuralprediction))"
   ]
  },
  {
   "cell_type": "markdown",
   "metadata": {},
   "source": [
    "#### DISCUSSION OF NEURAL NETWORK CLASSIFIER RESULT\n",
    "Having three layers with twenty-two (22) neurons at each layer(being double the number of independent features in the dataset), the weighted average prediction precision of this model is 85%.This precision level is below standard especially for industrial purposes.\n",
    "The confusion matrix also exposes the inability of the model to properly classify the different types of wine into their respective segments."
   ]
  },
  {
   "cell_type": "markdown",
   "metadata": {},
   "source": [
    "### EVALUATION OF THE ACCURACY OF MODELS"
   ]
  },
  {
   "cell_type": "code",
   "execution_count": 40,
   "metadata": {},
   "outputs": [],
   "source": [
    "# Getting Accuracy scores for each prediction\n",
    "\n",
    "svmAccuracy = accuracy_score(y_test, svprediction)\n",
    "rfAccuracy = accuracy_score(y_test, rfprediction)\n",
    "knnAccuracy = accuracy_score(y_test, knnprediction)\n",
    "dtreeAccuracy = accuracy_score(y_test, dtreeprediction)\n",
    "neuralAccuracy = accuracy_score(y_test, neuralprediction)\n"
   ]
  },
  {
   "cell_type": "code",
   "execution_count": 41,
   "metadata": {},
   "outputs": [
    {
     "name": "stdout",
     "output_type": "stream",
     "text": [
      "SVM Accuracy score =  0.8214285714285714\n",
      "Random Forest Accuracy score =  0.8928571428571429\n",
      "KNN Accuracy score =  0.8612244897959184\n",
      "Decision Tree Accuracy score =  0.8306122448979592\n",
      "Neural Networks Accuracy score =  0.8551020408163266\n"
     ]
    }
   ],
   "source": [
    "# Printing Accuracy scores for each prediction\n",
    "\n",
    "print(\"SVM Accuracy score = \", svmAccuracy)\n",
    "print(\"Random Forest Accuracy score = \", rfAccuracy)\n",
    "print(\"KNN Accuracy score = \", knnAccuracy)\n",
    "print(\"Decision Tree Accuracy score = \", dtreeAccuracy)\n",
    "print(\"Neural Networks Accuracy score = \", neuralAccuracy)"
   ]
  },
  {
   "cell_type": "markdown",
   "metadata": {},
   "source": [
    "## CONCLUSION"
   ]
  },
  {
   "cell_type": "markdown",
   "metadata": {},
   "source": [
    "From the accuracy scores above, it can be observed that the Random Forest Classifier yielded the highest accuracy with a prediction accuracy rate of nearly 90%. The K Nearest Neighbour (KNN) classifier model yielded the second highest accuracy score of 86%. The Decision Tree classifier and the Neural Networks yielded 83% and 85% respectively. The Support Vector Machine (SVM) had the least accuracy score of 82%. This is an indication of the fact that the Random Forest Classifier is thus far the best model for predicting the quality of each wine in the wine dataset.\n",
    "Also, it portrays the KNN and Neural Networks as having similar predictive power.\n",
    "\n",
    "The results of this work can be helpful in the industrial production of quality wine by studying the effects of each chemical composition on the wine. Many wine managers would also find it much helpful as it can help them identify factors that influence wine quality and know how to price their wines as well as determine features of a wine that is classified as good by a particular group or society.\n",
    "\n",
    "Although the Random Forest Model yielded a better accuracy score than the other classifier models, the use of rigor analytical tools and further analysis can help improve upon this work. Spending more time on data cleaning can be a useful factor in improving the accuracy scores of the models."
   ]
  },
  {
   "cell_type": "code",
   "execution_count": null,
   "metadata": {},
   "outputs": [],
   "source": []
  }
 ],
 "metadata": {
  "kernelspec": {
   "display_name": "Python 3",
   "language": "python",
   "name": "python3"
  },
  "language_info": {
   "codemirror_mode": {
    "name": "ipython",
    "version": 3
   },
   "file_extension": ".py",
   "mimetype": "text/x-python",
   "name": "python",
   "nbconvert_exporter": "python",
   "pygments_lexer": "ipython3",
   "version": "3.7.6"
  }
 },
 "nbformat": 4,
 "nbformat_minor": 4
}
